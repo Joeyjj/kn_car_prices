{
 "cells": [
  {
   "cell_type": "markdown",
   "metadata": {},
   "source": [
    "__Predicting Car Prices from Car Attributes using the scikit-learn [KNeighborsRegressor](https://scikit-learn.org/stable/modules/generated/sklearn.neighbors.KNeighborsRegressor.html?highlight=kneighborsregressor#sklearn.neighbors.KNeighborsRegressor).__\n",
    "\n",
    "We will use various attributes of individual cars and their known sale prices to produce a k-nearest neighbors model. The KN model will then attempt to predict sales prices of cars with similar attributes. \n",
    "\n",
    "The car sales prices are assumed to be continuous which is why the KNeighborsRegressor is used instead of the KNeighborsClassifier - the latter being more suitable for predicting category classifications. \n",
    "\n",
    "The full data set has a price range of \\\\$40,000 with a mean \\\\$13,200 +/- 8,000. The final model performs well, yielding an RMSE score of \\\\$2,384.3. However the _KNeighborsRegressor()_ can only use ~50\\% of the available (non-numerical) attributes - and excludes very obvious attributes such as 'make'. For this reason _KNeighborsRegressor()_ is unlikely to be the most optimal scikit-learn model for this task. \n",
    "\n",
    "The data set used is the [Automobile Data Set](https://archive.ics.uci.edu/ml/datasets/automobile) from the Machine Learning Repository. The workflow is following a [DataQuest](https://app.dataquest.io/m/155/guided-project%3A-predicting-car-prices/1/introduction-to-the-data-set) _Guided project_.\n",
    "\n",
    "# Initial inspection of the data set"
   ]
  },
  {
   "cell_type": "code",
   "execution_count": 1,
   "metadata": {},
   "outputs": [],
   "source": [
    "import pandas as pd\n",
    "import numpy as np\n",
    "from sklearn.neighbors import KNeighborsRegressor \n",
    "from sklearn.metrics import mean_squared_error\n",
    "from sklearn.model_selection import KFold\n",
    "import matplotlib.pyplot as plt\n",
    "%matplotlib inline"
   ]
  },
  {
   "cell_type": "markdown",
   "metadata": {},
   "source": [
    "The supplied data is not supplied with column headings - the column names are those specified in the documentation."
   ]
  },
  {
   "cell_type": "code",
   "execution_count": 2,
   "metadata": {},
   "outputs": [
    {
     "data": {
      "text/html": [
       "<div>\n",
       "<style scoped>\n",
       "    .dataframe tbody tr th:only-of-type {\n",
       "        vertical-align: middle;\n",
       "    }\n",
       "\n",
       "    .dataframe tbody tr th {\n",
       "        vertical-align: top;\n",
       "    }\n",
       "\n",
       "    .dataframe thead th {\n",
       "        text-align: right;\n",
       "    }\n",
       "</style>\n",
       "<table border=\"1\" class=\"dataframe\">\n",
       "  <thead>\n",
       "    <tr style=\"text-align: right;\">\n",
       "      <th></th>\n",
       "      <th>symboling</th>\n",
       "      <th>normalized-losses</th>\n",
       "      <th>make</th>\n",
       "      <th>fuel-type</th>\n",
       "      <th>aspiration</th>\n",
       "      <th>num-of-doors</th>\n",
       "      <th>body-style</th>\n",
       "      <th>drive-wheels</th>\n",
       "      <th>engine-location</th>\n",
       "      <th>wheel-base</th>\n",
       "      <th>...</th>\n",
       "      <th>engine-size</th>\n",
       "      <th>fuel-system</th>\n",
       "      <th>bore</th>\n",
       "      <th>stroke</th>\n",
       "      <th>compression-rate</th>\n",
       "      <th>horsepower</th>\n",
       "      <th>peak-rpm</th>\n",
       "      <th>city-mpg</th>\n",
       "      <th>highway-mpg</th>\n",
       "      <th>price</th>\n",
       "    </tr>\n",
       "  </thead>\n",
       "  <tbody>\n",
       "    <tr>\n",
       "      <td>0</td>\n",
       "      <td>3</td>\n",
       "      <td>?</td>\n",
       "      <td>alfa-romero</td>\n",
       "      <td>gas</td>\n",
       "      <td>std</td>\n",
       "      <td>two</td>\n",
       "      <td>convertible</td>\n",
       "      <td>rwd</td>\n",
       "      <td>front</td>\n",
       "      <td>88.6</td>\n",
       "      <td>...</td>\n",
       "      <td>130</td>\n",
       "      <td>mpfi</td>\n",
       "      <td>3.47</td>\n",
       "      <td>2.68</td>\n",
       "      <td>9.0</td>\n",
       "      <td>111</td>\n",
       "      <td>5000</td>\n",
       "      <td>21</td>\n",
       "      <td>27</td>\n",
       "      <td>13495</td>\n",
       "    </tr>\n",
       "  </tbody>\n",
       "</table>\n",
       "<p>1 rows × 26 columns</p>\n",
       "</div>"
      ],
      "text/plain": [
       "   symboling normalized-losses         make fuel-type aspiration num-of-doors  \\\n",
       "0          3                 ?  alfa-romero       gas        std          two   \n",
       "\n",
       "    body-style drive-wheels engine-location  wheel-base  ...  engine-size  \\\n",
       "0  convertible          rwd           front        88.6  ...          130   \n",
       "\n",
       "   fuel-system  bore  stroke compression-rate horsepower  peak-rpm city-mpg  \\\n",
       "0         mpfi  3.47    2.68              9.0        111      5000       21   \n",
       "\n",
       "  highway-mpg  price  \n",
       "0          27  13495  \n",
       "\n",
       "[1 rows x 26 columns]"
      ]
     },
     "execution_count": 2,
     "metadata": {},
     "output_type": "execute_result"
    }
   ],
   "source": [
    "# load data\n",
    "cars = pd.read_csv('imports-85.data')\n",
    "cols = ['symboling', 'normalized-losses', 'make', 'fuel-type', 'aspiration', 'num-of-doors', 'body-style', \n",
    "        'drive-wheels', 'engine-location', 'wheel-base', 'length', 'width', 'height', 'curb-weight', 'engine-type', \n",
    "        'num-of-cylinders', 'engine-size', 'fuel-system', 'bore', 'stroke', 'compression-rate', 'horsepower', 'peak-rpm', \n",
    "        'city-mpg', 'highway-mpg', 'price']\n",
    "cars = pd.read_csv('imports-85.data', names=cols)\n",
    "cars.head(1)"
   ]
  },
  {
   "cell_type": "code",
   "execution_count": 3,
   "metadata": {},
   "outputs": [
    {
     "data": {
      "text/plain": [
       "symboling              int64\n",
       "normalized-losses     object\n",
       "make                  object\n",
       "fuel-type             object\n",
       "aspiration            object\n",
       "num-of-doors          object\n",
       "body-style            object\n",
       "drive-wheels          object\n",
       "engine-location       object\n",
       "wheel-base           float64\n",
       "length               float64\n",
       "width                float64\n",
       "height               float64\n",
       "curb-weight            int64\n",
       "engine-type           object\n",
       "num-of-cylinders      object\n",
       "engine-size            int64\n",
       "fuel-system           object\n",
       "bore                  object\n",
       "stroke                object\n",
       "compression-rate     float64\n",
       "horsepower            object\n",
       "peak-rpm              object\n",
       "city-mpg               int64\n",
       "highway-mpg            int64\n",
       "price                 object\n",
       "dtype: object"
      ]
     },
     "execution_count": 3,
     "metadata": {},
     "output_type": "execute_result"
    }
   ],
   "source": [
    "cars.dtypes"
   ]
  },
  {
   "cell_type": "markdown",
   "metadata": {},
   "source": [
    "Select only the columns with [continuous values](https://archive.ics.uci.edu/ml/machine-learning-databases/autos/imports-85.names) such that they can fit into the KNeighborsRegressor model. "
   ]
  },
  {
   "cell_type": "code",
   "execution_count": 4,
   "metadata": {},
   "outputs": [
    {
     "data": {
      "text/html": [
       "<div>\n",
       "<style scoped>\n",
       "    .dataframe tbody tr th:only-of-type {\n",
       "        vertical-align: middle;\n",
       "    }\n",
       "\n",
       "    .dataframe tbody tr th {\n",
       "        vertical-align: top;\n",
       "    }\n",
       "\n",
       "    .dataframe thead th {\n",
       "        text-align: right;\n",
       "    }\n",
       "</style>\n",
       "<table border=\"1\" class=\"dataframe\">\n",
       "  <thead>\n",
       "    <tr style=\"text-align: right;\">\n",
       "      <th></th>\n",
       "      <th>normalized-losses</th>\n",
       "      <th>wheel-base</th>\n",
       "      <th>length</th>\n",
       "      <th>width</th>\n",
       "      <th>height</th>\n",
       "      <th>curb-weight</th>\n",
       "      <th>engine-size</th>\n",
       "      <th>bore</th>\n",
       "      <th>stroke</th>\n",
       "      <th>compression-rate</th>\n",
       "      <th>horsepower</th>\n",
       "      <th>peak-rpm</th>\n",
       "      <th>city-mpg</th>\n",
       "      <th>highway-mpg</th>\n",
       "      <th>price</th>\n",
       "    </tr>\n",
       "  </thead>\n",
       "  <tbody>\n",
       "    <tr>\n",
       "      <td>0</td>\n",
       "      <td>NaN</td>\n",
       "      <td>88.6</td>\n",
       "      <td>168.8</td>\n",
       "      <td>64.1</td>\n",
       "      <td>48.8</td>\n",
       "      <td>2548.0</td>\n",
       "      <td>130.0</td>\n",
       "      <td>3.47</td>\n",
       "      <td>2.68</td>\n",
       "      <td>9.0</td>\n",
       "      <td>111.0</td>\n",
       "      <td>5000.0</td>\n",
       "      <td>21.0</td>\n",
       "      <td>27.0</td>\n",
       "      <td>13495.0</td>\n",
       "    </tr>\n",
       "    <tr>\n",
       "      <td>1</td>\n",
       "      <td>NaN</td>\n",
       "      <td>88.6</td>\n",
       "      <td>168.8</td>\n",
       "      <td>64.1</td>\n",
       "      <td>48.8</td>\n",
       "      <td>2548.0</td>\n",
       "      <td>130.0</td>\n",
       "      <td>3.47</td>\n",
       "      <td>2.68</td>\n",
       "      <td>9.0</td>\n",
       "      <td>111.0</td>\n",
       "      <td>5000.0</td>\n",
       "      <td>21.0</td>\n",
       "      <td>27.0</td>\n",
       "      <td>16500.0</td>\n",
       "    </tr>\n",
       "  </tbody>\n",
       "</table>\n",
       "</div>"
      ],
      "text/plain": [
       "   normalized-losses  wheel-base  length  width  height  curb-weight  \\\n",
       "0                NaN        88.6   168.8   64.1    48.8       2548.0   \n",
       "1                NaN        88.6   168.8   64.1    48.8       2548.0   \n",
       "\n",
       "   engine-size  bore  stroke  compression-rate  horsepower  peak-rpm  \\\n",
       "0        130.0  3.47    2.68               9.0       111.0    5000.0   \n",
       "1        130.0  3.47    2.68               9.0       111.0    5000.0   \n",
       "\n",
       "   city-mpg  highway-mpg    price  \n",
       "0      21.0         27.0  13495.0  \n",
       "1      21.0         27.0  16500.0  "
      ]
     },
     "execution_count": 4,
     "metadata": {},
     "output_type": "execute_result"
    }
   ],
   "source": [
    "continuous_values_cols = [\n",
    "    'normalized-losses', 'wheel-base', 'length', 'width', 'height', \n",
    "    'curb-weight', 'bore', 'stroke', 'compression-rate', 'horsepower', \n",
    "    'peak-rpm', 'city-mpg', 'highway-mpg', 'price']\n",
    "\n",
    "continuous_values_cols = [\n",
    "    'normalized-losses', 'wheel-base', 'length', 'width', 'height', \n",
    "    'curb-weight', 'engine-size',   \n",
    "                'bore', 'stroke', 'compression-rate', 'horsepower', \n",
    "    'peak-rpm', 'city-mpg', 'highway-mpg', 'price']\n",
    "\n",
    "numeric_cars = cars[continuous_values_cols]\n",
    "numeric_cars = numeric_cars.replace('?', np.nan) # replace default missing\n",
    "numeric_cars = numeric_cars.astype('float')\n",
    "numeric_cars.head(2)"
   ]
  },
  {
   "cell_type": "markdown",
   "metadata": {},
   "source": [
    "## Data cleaning\n",
    "\n",
    "__Remove missing values__: Rows with missing prices are useless since this is what we will use to train the model. These rows will need to be dropped. "
   ]
  },
  {
   "cell_type": "code",
   "execution_count": 5,
   "metadata": {},
   "outputs": [
    {
     "name": "stdout",
     "output_type": "stream",
     "text": [
      "Dropped 4 rows with missing prices\n"
     ]
    }
   ],
   "source": [
    "missing_prices = numeric_cars['price'].isnull()\n",
    "numeric_cars.dropna(subset=['price'],inplace=True)\n",
    "\n",
    "print('Dropped {0} rows with missing prices'.format(missing_prices.sum()))"
   ]
  },
  {
   "cell_type": "code",
   "execution_count": 6,
   "metadata": {},
   "outputs": [
    {
     "data": {
      "text/plain": [
       "normalized-losses    18.407960\n",
       "wheel-base            0.000000\n",
       "length                0.000000\n",
       "width                 0.000000\n",
       "height                0.000000\n",
       "curb-weight           0.000000\n",
       "engine-size           0.000000\n",
       "bore                  1.990050\n",
       "stroke                1.990050\n",
       "compression-rate      0.000000\n",
       "horsepower            0.995025\n",
       "peak-rpm              0.995025\n",
       "city-mpg              0.000000\n",
       "highway-mpg           0.000000\n",
       "price                 0.000000\n",
       "dtype: float64"
      ]
     },
     "execution_count": 6,
     "metadata": {},
     "output_type": "execute_result"
    }
   ],
   "source": [
    "numeric_cars.isnull().sum()/numeric_cars.shape[0]*100"
   ]
  },
  {
   "cell_type": "markdown",
   "metadata": {},
   "source": [
    "The number of missing values - at 18.4% or ~37 rows - within _normalized-losses_ is significant. "
   ]
  },
  {
   "cell_type": "code",
   "execution_count": 7,
   "metadata": {},
   "outputs": [
    {
     "data": {
      "text/html": [
       "<div>\n",
       "<style scoped>\n",
       "    .dataframe tbody tr th:only-of-type {\n",
       "        vertical-align: middle;\n",
       "    }\n",
       "\n",
       "    .dataframe tbody tr th {\n",
       "        vertical-align: top;\n",
       "    }\n",
       "\n",
       "    .dataframe thead th {\n",
       "        text-align: right;\n",
       "    }\n",
       "</style>\n",
       "<table border=\"1\" class=\"dataframe\">\n",
       "  <thead>\n",
       "    <tr style=\"text-align: right;\">\n",
       "      <th></th>\n",
       "      <th>price</th>\n",
       "      <th>normalized-losses</th>\n",
       "    </tr>\n",
       "  </thead>\n",
       "  <tbody>\n",
       "    <tr>\n",
       "      <td>normalized-losses</td>\n",
       "      <td>0.203254</td>\n",
       "      <td>1.000000</td>\n",
       "    </tr>\n",
       "    <tr>\n",
       "      <td>height</td>\n",
       "      <td>0.135486</td>\n",
       "      <td>0.432335</td>\n",
       "    </tr>\n",
       "    <tr>\n",
       "      <td>horsepower</td>\n",
       "      <td>0.810533</td>\n",
       "      <td>0.295772</td>\n",
       "    </tr>\n",
       "    <tr>\n",
       "      <td>peak-rpm</td>\n",
       "      <td>0.101649</td>\n",
       "      <td>0.264597</td>\n",
       "    </tr>\n",
       "    <tr>\n",
       "      <td>city-mpg</td>\n",
       "      <td>0.686571</td>\n",
       "      <td>0.258502</td>\n",
       "    </tr>\n",
       "    <tr>\n",
       "      <td>highway-mpg</td>\n",
       "      <td>0.704692</td>\n",
       "      <td>0.210768</td>\n",
       "    </tr>\n",
       "    <tr>\n",
       "      <td>price</td>\n",
       "      <td>1.000000</td>\n",
       "      <td>0.203254</td>\n",
       "    </tr>\n",
       "    <tr>\n",
       "      <td>engine-size</td>\n",
       "      <td>0.872335</td>\n",
       "      <td>0.167365</td>\n",
       "    </tr>\n",
       "    <tr>\n",
       "      <td>compression-rate</td>\n",
       "      <td>0.071107</td>\n",
       "      <td>0.132654</td>\n",
       "    </tr>\n",
       "    <tr>\n",
       "      <td>curb-weight</td>\n",
       "      <td>0.834415</td>\n",
       "      <td>0.119893</td>\n",
       "    </tr>\n",
       "    <tr>\n",
       "      <td>width</td>\n",
       "      <td>0.751265</td>\n",
       "      <td>0.105073</td>\n",
       "    </tr>\n",
       "    <tr>\n",
       "      <td>wheel-base</td>\n",
       "      <td>0.584642</td>\n",
       "      <td>0.074362</td>\n",
       "    </tr>\n",
       "    <tr>\n",
       "      <td>stroke</td>\n",
       "      <td>0.082310</td>\n",
       "      <td>0.065627</td>\n",
       "    </tr>\n",
       "    <tr>\n",
       "      <td>bore</td>\n",
       "      <td>0.543436</td>\n",
       "      <td>0.036167</td>\n",
       "    </tr>\n",
       "    <tr>\n",
       "      <td>length</td>\n",
       "      <td>0.690628</td>\n",
       "      <td>0.023220</td>\n",
       "    </tr>\n",
       "  </tbody>\n",
       "</table>\n",
       "</div>"
      ],
      "text/plain": [
       "                      price  normalized-losses\n",
       "normalized-losses  0.203254           1.000000\n",
       "height             0.135486           0.432335\n",
       "horsepower         0.810533           0.295772\n",
       "peak-rpm           0.101649           0.264597\n",
       "city-mpg           0.686571           0.258502\n",
       "highway-mpg        0.704692           0.210768\n",
       "price              1.000000           0.203254\n",
       "engine-size        0.872335           0.167365\n",
       "compression-rate   0.071107           0.132654\n",
       "curb-weight        0.834415           0.119893\n",
       "width              0.751265           0.105073\n",
       "wheel-base         0.584642           0.074362\n",
       "stroke             0.082310           0.065627\n",
       "bore               0.543436           0.036167\n",
       "length             0.690628           0.023220"
      ]
     },
     "execution_count": 7,
     "metadata": {},
     "output_type": "execute_result"
    }
   ],
   "source": [
    "correlations = numeric_cars.corr()[['price','normalized-losses']]\n",
    "correlations.abs().sort_values('normalized-losses',ascending=False)"
   ]
  },
  {
   "cell_type": "markdown",
   "metadata": {},
   "source": [
    "For the values that do exist, the correlation of _normalized-losses_ is on the edge of being a reasonable predictor of the sale price.\n",
    "However, other than _height_ , _normalized-losses_ is largely independent to all other fields too. \n",
    "\n",
    "For this reason we should include it (for now) within the model. All missing values will use the mean() of each column."
   ]
  },
  {
   "cell_type": "code",
   "execution_count": 8,
   "metadata": {},
   "outputs": [],
   "source": [
    "numeric_cars = numeric_cars.fillna(numeric_cars.mean())"
   ]
  },
  {
   "cell_type": "markdown",
   "metadata": {},
   "source": [
    "Next, scale all columns to values between range from 0 to 1."
   ]
  },
  {
   "cell_type": "code",
   "execution_count": 9,
   "metadata": {},
   "outputs": [
    {
     "data": {
      "text/html": [
       "<div>\n",
       "<style scoped>\n",
       "    .dataframe tbody tr th:only-of-type {\n",
       "        vertical-align: middle;\n",
       "    }\n",
       "\n",
       "    .dataframe tbody tr th {\n",
       "        vertical-align: top;\n",
       "    }\n",
       "\n",
       "    .dataframe thead th {\n",
       "        text-align: right;\n",
       "    }\n",
       "</style>\n",
       "<table border=\"1\" class=\"dataframe\">\n",
       "  <thead>\n",
       "    <tr style=\"text-align: right;\">\n",
       "      <th></th>\n",
       "      <th>normalized-losses</th>\n",
       "      <th>wheel-base</th>\n",
       "      <th>length</th>\n",
       "      <th>width</th>\n",
       "      <th>height</th>\n",
       "      <th>curb-weight</th>\n",
       "      <th>engine-size</th>\n",
       "      <th>bore</th>\n",
       "      <th>stroke</th>\n",
       "      <th>compression-rate</th>\n",
       "      <th>horsepower</th>\n",
       "      <th>peak-rpm</th>\n",
       "      <th>city-mpg</th>\n",
       "      <th>highway-mpg</th>\n",
       "      <th>price</th>\n",
       "    </tr>\n",
       "  </thead>\n",
       "  <tbody>\n",
       "    <tr>\n",
       "      <td>0</td>\n",
       "      <td>0.298429</td>\n",
       "      <td>0.058309</td>\n",
       "      <td>0.413433</td>\n",
       "      <td>0.324786</td>\n",
       "      <td>0.083333</td>\n",
       "      <td>0.411171</td>\n",
       "      <td>0.260377</td>\n",
       "      <td>0.664286</td>\n",
       "      <td>0.290476</td>\n",
       "      <td>0.125</td>\n",
       "      <td>0.294393</td>\n",
       "      <td>0.346939</td>\n",
       "      <td>0.222222</td>\n",
       "      <td>0.289474</td>\n",
       "      <td>13495.0</td>\n",
       "    </tr>\n",
       "    <tr>\n",
       "      <td>1</td>\n",
       "      <td>0.298429</td>\n",
       "      <td>0.058309</td>\n",
       "      <td>0.413433</td>\n",
       "      <td>0.324786</td>\n",
       "      <td>0.083333</td>\n",
       "      <td>0.411171</td>\n",
       "      <td>0.260377</td>\n",
       "      <td>0.664286</td>\n",
       "      <td>0.290476</td>\n",
       "      <td>0.125</td>\n",
       "      <td>0.294393</td>\n",
       "      <td>0.346939</td>\n",
       "      <td>0.222222</td>\n",
       "      <td>0.289474</td>\n",
       "      <td>16500.0</td>\n",
       "    </tr>\n",
       "    <tr>\n",
       "      <td>2</td>\n",
       "      <td>0.298429</td>\n",
       "      <td>0.230321</td>\n",
       "      <td>0.449254</td>\n",
       "      <td>0.444444</td>\n",
       "      <td>0.383333</td>\n",
       "      <td>0.517843</td>\n",
       "      <td>0.343396</td>\n",
       "      <td>0.100000</td>\n",
       "      <td>0.666667</td>\n",
       "      <td>0.125</td>\n",
       "      <td>0.495327</td>\n",
       "      <td>0.346939</td>\n",
       "      <td>0.166667</td>\n",
       "      <td>0.263158</td>\n",
       "      <td>16500.0</td>\n",
       "    </tr>\n",
       "  </tbody>\n",
       "</table>\n",
       "</div>"
      ],
      "text/plain": [
       "   normalized-losses  wheel-base    length     width    height  curb-weight  \\\n",
       "0           0.298429    0.058309  0.413433  0.324786  0.083333     0.411171   \n",
       "1           0.298429    0.058309  0.413433  0.324786  0.083333     0.411171   \n",
       "2           0.298429    0.230321  0.449254  0.444444  0.383333     0.517843   \n",
       "\n",
       "   engine-size      bore    stroke  compression-rate  horsepower  peak-rpm  \\\n",
       "0     0.260377  0.664286  0.290476             0.125    0.294393  0.346939   \n",
       "1     0.260377  0.664286  0.290476             0.125    0.294393  0.346939   \n",
       "2     0.343396  0.100000  0.666667             0.125    0.495327  0.346939   \n",
       "\n",
       "   city-mpg  highway-mpg    price  \n",
       "0  0.222222     0.289474  13495.0  \n",
       "1  0.222222     0.289474  16500.0  \n",
       "2  0.166667     0.263158  16500.0  "
      ]
     },
     "execution_count": 9,
     "metadata": {},
     "output_type": "execute_result"
    }
   ],
   "source": [
    "cars_scaled = numeric_cars.copy()\n",
    "cars_scaled = (cars_scaled - cars_scaled.min()) / (cars_scaled.max() - cars_scaled.min())\n",
    "cars_scaled['price'] = numeric_cars['price']\n",
    "cars_scaled.head(3)"
   ]
  },
  {
   "cell_type": "markdown",
   "metadata": {
    "collapsed": true
   },
   "source": [
    "# A simple k-nearest neighbors model\n",
    "\n",
    "Loop over each column (car attribute) in the DataFrame and assess the predictive power of each attribute when used to compute the car sale price.\n",
    "\n",
    "1, Split the data randomly into two halves. 2, Train the model on the 1st half. 3, Test the model on the 2nd half. 4, Assess the predictive capabilities of each model using RMSE."
   ]
  },
  {
   "cell_type": "code",
   "execution_count": 10,
   "metadata": {},
   "outputs": [],
   "source": [
    "from random import sample\n",
    "def knn_train_test(df, train_col, target_col, k_value=5):\n",
    "    '''Split a DataFrame into Training and test data. Then \n",
    "    fit/test a KNeighborsRegressor() model one column at a time.\n",
    "    '''\n",
    "    # randomise the dataframe\n",
    "    df = df.sample(frac=1,random_state=1).reset_index(drop=True)\n",
    "    # split into training and test data\n",
    "    train_df = df.iloc[0:int(df.shape[0]/2)].copy()\n",
    "    test_df  = df.iloc[int(df.shape[0]/2):].copy()\n",
    "    \n",
    "    # Fit\n",
    "    knn = KNeighborsRegressor(n_neighbors=k_value)\n",
    "    knn.fit(train_df[[train_col]],train_df[target_col])\n",
    "    # predict\n",
    "    predictions = knn.predict(test_df[[train_col]])\n",
    "    \n",
    "    # return the RMSE\n",
    "    return mean_squared_error(test_df[target_col],predictions)**.5 "
   ]
  },
  {
   "cell_type": "code",
   "execution_count": 11,
   "metadata": {},
   "outputs": [],
   "source": [
    "from sklearn.neighbors import KNeighborsRegressor\n",
    "from sklearn.metrics import mean_squared_error\n",
    "#Function for univariate knn\n",
    "def knn_train_test(df,feature_col,target_col,k=5):\n",
    "    \n",
    "    # Randomize order of rows in data frame.\n",
    "    np.random.seed(1)\n",
    "    shuffled_index = np.random.permutation(df.index)\n",
    "    rand_df = df.reindex(shuffled_index)\n",
    "    \n",
    "    #Do 50% hold out split for training and test sets\n",
    "    half = round(len(rand_df)/2)\n",
    "    training_set = df.iloc[0:half].copy()\n",
    "    test_set = df.iloc[half:].copy()\n",
    "    \n",
    "    #Initialise knn model\n",
    "    knn = KNeighborsRegressor(n_neighbors=k)\n",
    "    \n",
    "    #train the model\n",
    "    knn.fit(training_set[[feature_col]],training_set[target_col])\n",
    "    \n",
    "    #test the model\n",
    "    predictions = knn.predict(test_set[[feature_col]])\n",
    "    \n",
    "    #Evaluate the model\n",
    "    rmse = rmse = np.sqrt(mean_squared_error(predictions, test_set[target_col]))\n",
    "    \n",
    "    return rmse"
   ]
  },
  {
   "cell_type": "markdown",
   "metadata": {},
   "source": [
    "Now loop over each column in a dataframe and return the RMSE for each when predicting the sale price."
   ]
  },
  {
   "cell_type": "code",
   "execution_count": 12,
   "metadata": {},
   "outputs": [],
   "source": [
    "best_fit = {}\n",
    "cars_scaled_cols = cars_scaled.columns[cars_scaled.columns != 'price']\n",
    "for target_col in cars_scaled_cols:\n",
    "    best_fit[target_col] = knn_train_test(cars_scaled,target_col,'price')\n",
    "\n",
    "# Produce a \n",
    "best_fit = pd.Series(best_fit)\n",
    "best_fit.sort_values(inplace=True)"
   ]
  },
  {
   "cell_type": "markdown",
   "metadata": {},
   "source": [
    "It should be expected that a column/attribute that correlates well with the car sale price will yield a lower RMSE. "
   ]
  },
  {
   "cell_type": "code",
   "execution_count": 13,
   "metadata": {},
   "outputs": [
    {
     "data": {
      "text/html": [
       "<div>\n",
       "<style scoped>\n",
       "    .dataframe tbody tr th:only-of-type {\n",
       "        vertical-align: middle;\n",
       "    }\n",
       "\n",
       "    .dataframe tbody tr th {\n",
       "        vertical-align: top;\n",
       "    }\n",
       "\n",
       "    .dataframe thead th {\n",
       "        text-align: right;\n",
       "    }\n",
       "</style>\n",
       "<table border=\"1\" class=\"dataframe\">\n",
       "  <thead>\n",
       "    <tr style=\"text-align: right;\">\n",
       "      <th></th>\n",
       "      <th>Correlations</th>\n",
       "      <th>RMSE</th>\n",
       "    </tr>\n",
       "  </thead>\n",
       "  <tbody>\n",
       "    <tr>\n",
       "      <td>engine-size</td>\n",
       "      <td>0.872335</td>\n",
       "      <td>4190.433888</td>\n",
       "    </tr>\n",
       "    <tr>\n",
       "      <td>horsepower</td>\n",
       "      <td>0.810533</td>\n",
       "      <td>4267.730361</td>\n",
       "    </tr>\n",
       "    <tr>\n",
       "      <td>highway-mpg</td>\n",
       "      <td>0.704692</td>\n",
       "      <td>4628.793094</td>\n",
       "    </tr>\n",
       "    <tr>\n",
       "      <td>city-mpg</td>\n",
       "      <td>0.686571</td>\n",
       "      <td>4814.778015</td>\n",
       "    </tr>\n",
       "    <tr>\n",
       "      <td>curb-weight</td>\n",
       "      <td>0.834415</td>\n",
       "      <td>5166.828581</td>\n",
       "    </tr>\n",
       "    <tr>\n",
       "      <td>width</td>\n",
       "      <td>0.751265</td>\n",
       "      <td>7110.412630</td>\n",
       "    </tr>\n",
       "    <tr>\n",
       "      <td>compression-rate</td>\n",
       "      <td>0.071107</td>\n",
       "      <td>8096.301512</td>\n",
       "    </tr>\n",
       "    <tr>\n",
       "      <td>normalized-losses</td>\n",
       "      <td>0.203254</td>\n",
       "      <td>8131.436882</td>\n",
       "    </tr>\n",
       "    <tr>\n",
       "      <td>length</td>\n",
       "      <td>0.690628</td>\n",
       "      <td>8304.189346</td>\n",
       "    </tr>\n",
       "    <tr>\n",
       "      <td>stroke</td>\n",
       "      <td>0.082310</td>\n",
       "      <td>9334.714914</td>\n",
       "    </tr>\n",
       "    <tr>\n",
       "      <td>peak-rpm</td>\n",
       "      <td>0.101649</td>\n",
       "      <td>9759.209970</td>\n",
       "    </tr>\n",
       "    <tr>\n",
       "      <td>wheel-base</td>\n",
       "      <td>0.584642</td>\n",
       "      <td>9969.243292</td>\n",
       "    </tr>\n",
       "    <tr>\n",
       "      <td>height</td>\n",
       "      <td>0.135486</td>\n",
       "      <td>10839.693636</td>\n",
       "    </tr>\n",
       "    <tr>\n",
       "      <td>bore</td>\n",
       "      <td>0.543436</td>\n",
       "      <td>13397.091693</td>\n",
       "    </tr>\n",
       "  </tbody>\n",
       "</table>\n",
       "</div>"
      ],
      "text/plain": [
       "                   Correlations          RMSE\n",
       "engine-size            0.872335   4190.433888\n",
       "horsepower             0.810533   4267.730361\n",
       "highway-mpg            0.704692   4628.793094\n",
       "city-mpg               0.686571   4814.778015\n",
       "curb-weight            0.834415   5166.828581\n",
       "width                  0.751265   7110.412630\n",
       "compression-rate       0.071107   8096.301512\n",
       "normalized-losses      0.203254   8131.436882\n",
       "length                 0.690628   8304.189346\n",
       "stroke                 0.082310   9334.714914\n",
       "peak-rpm               0.101649   9759.209970\n",
       "wheel-base             0.584642   9969.243292\n",
       "height                 0.135486  10839.693636\n",
       "bore                   0.543436  13397.091693"
      ]
     },
     "execution_count": 13,
     "metadata": {},
     "output_type": "execute_result"
    },
    {
     "data": {
      "image/png": "[encoded data removed]",
      "text/plain": [
       "<Figure size 432x288 with 1 Axes>"
      ]
     },
     "metadata": {
      "needs_background": "light"
     },
     "output_type": "display_data"
    }
   ],
   "source": [
    "corr_vs_rmse = pd.DataFrame([correlations.abs()['price'][cars_scaled_cols],best_fit],\n",
    "                             index=['Correlations','RMSE']).transpose()\n",
    "\n",
    "plt.scatter(corr_vs_rmse['Correlations'],corr_vs_rmse['RMSE'])\n",
    "plt.xlabel('Correlation To Sale Price')\n",
    "plt.ylabel('RMSE')\n",
    "\n",
    "corr_vs_rmse.sort_values(['RMSE'],inplace=True)\n",
    "corr_vs_rmse"
   ]
  },
  {
   "cell_type": "markdown",
   "metadata": {},
   "source": [
    "Next, compare the RMSE for individual attributes with incremental k_values.\n",
    "\n",
    "Using all 13 attributes will create a busy graph. Instead pick the four _best_ and _worst_ attributes, using the above RMSE scores when k_value = 5."
   ]
  },
  {
   "cell_type": "code",
   "execution_count": 14,
   "metadata": {},
   "outputs": [
    {
     "data": {
      "image/png": "[encoded data removed]",
      "text/plain": [
       "<Figure size 1152x288 with 2 Axes>"
      ]
     },
     "metadata": {
      "needs_background": "light"
     },
     "output_type": "display_data"
    }
   ],
   "source": [
    "# corr_vs_rmse sorted in ascending RMSE\n",
    "no_top_results = 5\n",
    "best_cols  = corr_vs_rmse.iloc[0:no_top_results:,:].index # top 5\n",
    "worst_cols = corr_vs_rmse.iloc[corr_vs_rmse.shape[0]-no_top_results:,:].index # bottom 5\n",
    "\n",
    "fig, axs = plt.subplots(1,2, figsize=(16, 4))\n",
    "# fig.subplots_adjust(hspace = .5, wspace=.001)\n",
    "axs = axs.ravel()\n",
    "\n",
    "plots = {\n",
    "    'RMSE vs k_value for Top 5 attributes':best_cols,\n",
    "    'RMSE vs k_value for Bottom 5 attributes':worst_cols }\n",
    "\n",
    "k_values = (1, 3, 5, 7, 9, 11, 13, 15)\n",
    "\n",
    "plot = 0\n",
    "for title in plots:\n",
    "    target_cols = plots[title]\n",
    "    \n",
    "    best_k = {}\n",
    "    for col in target_cols:\n",
    "        best_k[col] = {}\n",
    "        for k_value in k_values:\n",
    "            best_k[col][k_value] = knn_train_test(cars_scaled,col,'price',k_value)\n",
    "\n",
    "    best_k_df = pd.DataFrame(best_k)\n",
    "    for col in target_cols:\n",
    "        axs[plot].plot(k_values, best_k_df[col], label=col)\n",
    "    \n",
    "    axs[plot].legend(loc='upper center')\n",
    "    axs[plot].set_title(title)\n",
    "    axs[plot].set_xlabel('k_value')\n",
    "    axs[plot].set_ylabel('RMSE')\n",
    "    plot += 1"
   ]
  },
  {
   "cell_type": "markdown",
   "metadata": {},
   "source": [
    "The RMSE scores for the bottom 5 attributes do improve initially as the k_value increases, flattening out as k_value moves higher.\n",
    "\n",
    "Whereras the RMSE scores for the top 5 attributes seem to have a sweet spot; such that the RMSE score improves initially as the k_value increases and then worsens as the k_value increases further. \n",
    "\n",
    "This is not too suprising. \n",
    "\n",
    "The top 5 attributes are by definition well correlated with the sale price. Increasing the k_value initially provides more information which improves the RMSE score. However because they are well correlated the additional _nearest neighbours_ will soon become unreliable indicators, blending the fit and so decreasing the predictive capabilities. \n",
    "\n",
    "Conversely, the bottom 5 attributes are by definition poorly correlated with the sale price. Therefore increasing the k_value should be expected to improves the RMSE score but the trade-off between information and noise will occur later. It should be expected that the RMSE will decrease again as the k_value increases further. However a bad fit can only be improved so much; it should be noted that the _best_ RMSE scores for all bottom 5 attributes are still worse that the _worst_ RMSE scores for all top 5 attributes. \n",
    "\n",
    "# Improving the k-nearest neighbors model\n",
    "\n",
    "Instead of using just a single attribute for training and testing, reconfigure knn_train_test() to fit multiple specified attributes. For now the models will all use the default k_value = 5."
   ]
  },
  {
   "cell_type": "code",
   "execution_count": 15,
   "metadata": {},
   "outputs": [],
   "source": [
    "def knn_train_test(df, train_cols, target_col='price', k_value=5):\n",
    "    '''Split a DataFrame into Training and test data. Then fit/test \n",
    "    a KNeighborsRegressor() model against multiple target attributes (train_cols).\n",
    "    '''    \n",
    "    # split the data set into two halves randomly\n",
    "    df = df.sample(frac=1,random_state=1).reset_index(drop=True)    \n",
    "    train_df = df.iloc[0:int(df.shape[0]/2)].copy()\n",
    "    test_df  = df.iloc[int(df.shape[0]/2):].copy()\n",
    "    \n",
    "    # fit and predict\n",
    "    knn = KNeighborsRegressor(n_neighbors=k_value)\n",
    "    knn.fit(train_df[train_cols],train_df[target_col])\n",
    "    predictions = knn.predict(test_df[train_cols])\n",
    "    \n",
    "    return mean_squared_error(test_df[target_col],predictions)**.5 "
   ]
  },
  {
   "cell_type": "code",
   "execution_count": 16,
   "metadata": {},
   "outputs": [],
   "source": [
    "def fit_and_plot(knn_func,knn_kwargs={},k_values=np.arange(1,25,1), no_best_fits=[1, 2, 3, 4, 5]):\n",
    "    '''Fit numerous kNN Model with varying values of k and a varying choice of \"best fit attributes.\n",
    "    Compute the RMSE for each model and plot the results. \n",
    "    \n",
    "    knn_func is the function used to perform the fit and measure the RMSE.\n",
    "    \"'''\n",
    "    \n",
    "    all_k_fits = {}    \n",
    "    for no_best_fit_cols in no_best_fits:        \n",
    "        all_k_fits[no_best_fit_cols] = {}\n",
    "        # choose the 'top' / best fitting attributes\n",
    "        train_cols = best_fit[:no_best_fit_cols].index.tolist()\n",
    "        # calculate the RMSE of the selected attributes against varying values of k\n",
    "        for k_value in k_values:\n",
    "            knn_kwargs['k_value'] = k_value\n",
    "            rmse = knn_func( cars_scaled, train_cols, **knn_kwargs )\n",
    "            all_k_fits[no_best_fit_cols][k_value] = rmse\n",
    "\n",
    "    # plot k_value vs RMSE for each attribution selection\n",
    "    for no_cols,v in all_k_fits.items():\n",
    "        k_values = list(v.keys())\n",
    "        rmses = list(v.values())\n",
    "\n",
    "        plt.plot(k_values,rmses)        \n",
    "        plt.title('Optimsed attribute selection: k_values vs RMSE')\n",
    "        plt.xlabel('k value')\n",
    "        plt.ylabel('RMSE')    \n",
    "\n",
    "    plt.legend(all_k_fits.keys())"
   ]
  },
  {
   "cell_type": "code",
   "execution_count": 17,
   "metadata": {},
   "outputs": [
    {
     "data": {
      "image/png": "[encoded data removed]",
      "text/plain": [
       "<Figure size 432x288 with 1 Axes>"
      ]
     },
     "metadata": {
      "needs_background": "light"
     },
     "output_type": "display_data"
    }
   ],
   "source": [
    "fit_and_plot( knn_train_test ) # perfom the varying attribution selection on knn_train_test()"
   ]
  },
  {
   "cell_type": "markdown",
   "metadata": {},
   "source": [
    "There is some improvement in the predictive power of the kNN model when the number of car attributes used in tandem is increased. However the gains are not significant; the predictive power of 5 attributes (the best performing model) is only marginly better than when using two. \n",
    "\n",
    "Furthermore, all models perform best with low values for _k_. This is suspicious and may indicate that the data set has been overfit. Next, a __KFold__ model is used to split the data set into varying test/train splits. \n",
    "\n",
    "# KFold k-nearest neighbors model"
   ]
  },
  {
   "cell_type": "code",
   "execution_count": 18,
   "metadata": {},
   "outputs": [],
   "source": [
    "def knn_KFold(df, train_cols, target_col='price', k_value=5, n_splits = 10):\n",
    "    '''Using KFold, split a DataFrame multiple times (n_splits) into different training and test data \n",
    "    sets. Then fit/test a KNeighborsRegressor() model and score the average value of the RMSE. \n",
    "    '''  \n",
    "    \n",
    "    # initialise the splits\n",
    "    kf = KFold(n_splits=n_splits, random_state=1, shuffle=True)    \n",
    "    X = df[train_cols]\n",
    "    y = df[target_col]\n",
    "\n",
    "    rmse = 0\n",
    "    for train_index, test_index in kf.split(cars_scaled):  \n",
    "        # Split into test/train \n",
    "        X_train, X_test = X.iloc[train_index], X.iloc[test_index]\n",
    "        y_train, y_test = y.iloc[train_index], y.iloc[test_index]\n",
    "\n",
    "        # Fit and predict\n",
    "        knn = KNeighborsRegressor(n_neighbors=k_value)\n",
    "        knn.fit(X_train,y_train)\n",
    "        predictions = knn.predict(X_test)\n",
    "\n",
    "        rmse += mean_squared_error(y_test,predictions)**.5 \n",
    "\n",
    "    return rmse / n_splits # average RMSE"
   ]
  },
  {
   "cell_type": "code",
   "execution_count": 19,
   "metadata": {},
   "outputs": [
    {
     "data": {
      "image/png": "[encoded data removed]",
      "text/plain": [
       "<Figure size 432x288 with 1 Axes>"
      ]
     },
     "metadata": {
      "needs_background": "light"
     },
     "output_type": "display_data"
    }
   ],
   "source": [
    "fit_and_plot( knn_KFold, knn_kwargs={'n_splits':10} ) # fit and plot using the new knn_KFold()"
   ]
  },
  {
   "cell_type": "markdown",
   "metadata": {},
   "source": [
    "# Summary"
   ]
  },
  {
   "cell_type": "code",
   "execution_count": 20,
   "metadata": {},
   "outputs": [
    {
     "data": {
      "text/plain": [
       "mean    13207.129353\n",
       "std      7947.066342\n",
       "min      5118.000000\n",
       "max     45400.000000\n",
       "Name: price, dtype: float64"
      ]
     },
     "execution_count": 20,
     "metadata": {},
     "output_type": "execute_result"
    }
   ],
   "source": [
    "cars_scaled.describe()['price'][['mean','std','min','max']] "
   ]
  },
  {
   "cell_type": "markdown",
   "metadata": {},
   "source": [
    "Using the KFold (n_splits=10) model has smoothed out the RMSE scores and it is now clear that choosing the top 5 attributes yields the model with the best predictive power. \n",
    "\n",
    "The full data set has a price range of \\\\$40,000 with a mean \\\\$13,200 +/- 8,000. Therefore with an RMSE score of \\\\$2,384.3, the final model is performing well. \n",
    "\n",
    "However the optimal k value is still suspiciously very low (indeed it is 1). The correlation between the Top 5 columns offers a plausible explanation for this: "
   ]
  },
  {
   "cell_type": "code",
   "execution_count": 21,
   "metadata": {},
   "outputs": [
    {
     "data": {
      "text/html": [
       "<div>\n",
       "<style scoped>\n",
       "    .dataframe tbody tr th:only-of-type {\n",
       "        vertical-align: middle;\n",
       "    }\n",
       "\n",
       "    .dataframe tbody tr th {\n",
       "        vertical-align: top;\n",
       "    }\n",
       "\n",
       "    .dataframe thead th {\n",
       "        text-align: right;\n",
       "    }\n",
       "</style>\n",
       "<table border=\"1\" class=\"dataframe\">\n",
       "  <thead>\n",
       "    <tr style=\"text-align: right;\">\n",
       "      <th></th>\n",
       "      <th>engine-size</th>\n",
       "      <th>horsepower</th>\n",
       "      <th>highway-mpg</th>\n",
       "      <th>city-mpg</th>\n",
       "      <th>curb-weight</th>\n",
       "    </tr>\n",
       "  </thead>\n",
       "  <tbody>\n",
       "    <tr>\n",
       "      <td>engine-size</td>\n",
       "      <td>1.000000</td>\n",
       "      <td>0.822649</td>\n",
       "      <td>-0.679571</td>\n",
       "      <td>-0.650546</td>\n",
       "      <td>0.849072</td>\n",
       "    </tr>\n",
       "    <tr>\n",
       "      <td>horsepower</td>\n",
       "      <td>0.822649</td>\n",
       "      <td>1.000000</td>\n",
       "      <td>-0.804587</td>\n",
       "      <td>-0.822138</td>\n",
       "      <td>0.757994</td>\n",
       "    </tr>\n",
       "    <tr>\n",
       "      <td>highway-mpg</td>\n",
       "      <td>-0.679571</td>\n",
       "      <td>-0.804587</td>\n",
       "      <td>1.000000</td>\n",
       "      <td>0.972044</td>\n",
       "      <td>-0.794889</td>\n",
       "    </tr>\n",
       "    <tr>\n",
       "      <td>city-mpg</td>\n",
       "      <td>-0.650546</td>\n",
       "      <td>-0.822138</td>\n",
       "      <td>0.972044</td>\n",
       "      <td>1.000000</td>\n",
       "      <td>-0.749543</td>\n",
       "    </tr>\n",
       "    <tr>\n",
       "      <td>curb-weight</td>\n",
       "      <td>0.849072</td>\n",
       "      <td>0.757994</td>\n",
       "      <td>-0.794889</td>\n",
       "      <td>-0.749543</td>\n",
       "      <td>1.000000</td>\n",
       "    </tr>\n",
       "  </tbody>\n",
       "</table>\n",
       "</div>"
      ],
      "text/plain": [
       "             engine-size  horsepower  highway-mpg  city-mpg  curb-weight\n",
       "engine-size     1.000000    0.822649    -0.679571 -0.650546     0.849072\n",
       "horsepower      0.822649    1.000000    -0.804587 -0.822138     0.757994\n",
       "highway-mpg    -0.679571   -0.804587     1.000000  0.972044    -0.794889\n",
       "city-mpg       -0.650546   -0.822138     0.972044  1.000000    -0.749543\n",
       "curb-weight     0.849072    0.757994    -0.794889 -0.749543     1.000000"
      ]
     },
     "execution_count": 21,
     "metadata": {},
     "output_type": "execute_result"
    }
   ],
   "source": [
    "train_cols = best_fit[:5].index.tolist()\n",
    "cars_scaled[train_cols].corr()"
   ]
  },
  {
   "cell_type": "markdown",
   "metadata": {},
   "source": [
    "All of the Top 5 attributes correlate closely. This is unsurprising given the attributes. _highway-mpg_ and _city-mpg_ both measures of fuel efficiency are almost perfectly correlated as would be expected. The Top 2 attributes _engine-size_ and _horsepower_ also correlate very closely; larger engines likely produce more power. _curb-weight_ is less obvious, but larger engines will weigh more and all things equal a heavier car will use more fuel. \n",
    "\n",
    "So plausibly these attributes are similar enough such that they're to overlapping sufficiently enough to only require one nearest neighbour to optimise the price prediction. However it also suggests that the model is overfitted and limited. \n",
    "\n",
    "The _KNeighborsRegressor()_ can currently only use ~50\\% of the available (non-numerical) attributes. Furthermore, it excludes very obvious attributes such as 'make'; it's common knowledge that a Porsche typically costs much more than a Peugot. \n",
    "\n",
    "The next evolution of this model should be to categorise some of the non-numerical attributes and convert them to dummy columns. "
   ]
  },
  {
   "cell_type": "code",
   "execution_count": 22,
   "metadata": {},
   "outputs": [
    {
     "data": {
      "text/plain": [
       "toyota           32\n",
       "nissan           18\n",
       "mazda            17\n",
       "honda            13\n",
       "mitsubishi       13\n",
       "volkswagen       12\n",
       "subaru           12\n",
       "peugot           11\n",
       "volvo            11\n",
       "dodge             9\n",
       "mercedes-benz     8\n",
       "bmw               8\n",
       "audi              7\n",
       "plymouth          7\n",
       "saab              6\n",
       "porsche           5\n",
       "isuzu             4\n",
       "alfa-romero       3\n",
       "jaguar            3\n",
       "chevrolet         3\n",
       "renault           2\n",
       "mercury           1\n",
       "Name: make, dtype: int64"
      ]
     },
     "execution_count": 22,
     "metadata": {},
     "output_type": "execute_result"
    }
   ],
   "source": [
    "cars['make'].value_counts()"
   ]
  }
 ],
 "metadata": {
  "kernelspec": {
   "display_name": "Python 3",
   "language": "python",
   "name": "python3"
  },
  "language_info": {
   "codemirror_mode": {
    "name": "ipython",
    "version": 3
   },
   "file_extension": ".py",
   "mimetype": "text/x-python",
   "name": "python",
   "nbconvert_exporter": "python",
   "pygments_lexer": "ipython3",
   "version": "3.7.4"
  }
 },
 "nbformat": 4,
 "nbformat_minor": 2
}
